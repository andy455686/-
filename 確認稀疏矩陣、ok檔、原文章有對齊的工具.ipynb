{
 "cells": [
  {
   "cell_type": "code",
   "execution_count": 1,
   "id": "255471a0",
   "metadata": {},
   "outputs": [],
   "source": [
    "from scipy import sparse\n",
    "X = sparse.load_npz(\"limit_model.npz\") #讀入稀疏矩陣"
   ]
  },
  {
   "cell_type": "code",
   "execution_count": 2,
   "id": "7ad01aa8",
   "metadata": {},
   "outputs": [
    {
     "name": "stdout",
     "output_type": "stream",
     "text": [
      "done\n"
     ]
    }
   ],
   "source": [
    "#以下套用之前範例讀入詞彙集\n",
    "import csv\n",
    "\n",
    "termset=dict() #用字典預備儲存所有詞彙\n",
    "no=0 #幫詞彙編號\n",
    "\n",
    "f = open('limit_up_term.csv', newline='', encoding='utf-8') #開檔 \n",
    "rows = csv.reader(f, delimiter=',') #讀檔\n",
    "for row in rows:\n",
    "  if row[0] not in termset: #如果是新詞彙則加入(意思是重複的不列入)\n",
    "    termset[row[0]]=no\n",
    "    no+=1\n",
    "f.close()\n",
    "\n",
    "f = open('limit_down_term.csv', newline='', encoding='utf-8') #開檔 \n",
    "rows = csv.reader(f, delimiter=',') #讀檔\n",
    "for row in rows:\n",
    "  if row[0] not in termset: #如果是新詞彙則加入(意思是重複的不列入)\n",
    "    termset[row[0]]=no\n",
    "    no+=1\n",
    "f.close()\n",
    "\n",
    "print(\"done\")"
   ]
  },
  {
   "cell_type": "code",
   "execution_count": null,
   "id": "000cecbb",
   "metadata": {},
   "outputs": [],
   "source": [
    "# 這段程式碼的目的是：將兩個 CSV 檔案中出現的所有「不重複的詞彙」進行整合與編號。簡單說，就是幫所有詞建立一個「唯一詞彙表」，每個詞對應一個獨立編號。\n",
    "termset=dict() #用字典預備儲存所有詞彙\n",
    "no=0 #幫詞彙編號\n",
    "\n",
    "f = open('limit_up_term.csv', newline='', encoding='utf-8') #開檔 \n",
    "rows = csv.reader(f, delimiter=',') #讀檔\n",
    "for row in rows:\n",
    "  if row[0] not in termset: #如果是新詞彙則加入(意思是重複的不列入)\n",
    "    termset[row[0]]=no\n",
    "    no+=1\n",
    "f.close()\n",
    "\n",
    "f = open('limit_down_term.csv', newline='', encoding='utf-8') #開檔 \n",
    "rows = csv.reader(f, delimiter=',') #讀檔\n",
    "for row in rows:\n",
    "  if row[0] not in termset: #如果是新詞彙則加入(意思是重複的不列入)\n",
    "    termset[row[0]]=no\n",
    "    no+=1\n",
    "f.close()\n",
    "# 最後會得到一個不重複單詞的字典\n",
    "# 比較好的做法應該是重複的詞要丟掉！-->自己去改\n",
    "\n",
    "print(\"done\")"
   ]
  },
  {
   "cell_type": "code",
   "execution_count": 5,
   "id": "e04c6904",
   "metadata": {},
   "outputs": [
    {
     "name": "stdout",
     "output_type": "stream",
     "text": [
      "原始內容：  台積電 站上 600 ... 元宵 行情 杜金龍 台北市 綜合 報導 台股 新春 紅盤 台積電 大漲 主要 因為 農曆年 封關 期間 美國 股市 大漲 台積電 ADR 大漲 不過 許多 分析師 看空 今年 盤勢 台積電 機會 漲回 600 另外 根據 過去 經驗 元宵節 前後 機率 波段 漲幅 時候 卡位 華視 網路 理財 節目 鈔錢 部署 邀請 資深 分析師 杜金龍 分享 看法 台積電會 一路 漲破 600 杜金龍 認為 台積電 大盤 領頭 1月 30日 開盤 開高 走高 大盤 突破 去年 12月 1日 15152 壓力區 但是 接下來 台積電 可能 540 560 之間 短線 開始 震盪 壓力 台股 1月 30日 開始 真正 進入 套牢區 有沒有 辦法 突破 萬六 可能 交易量 多寡 杜金龍 分享 自己 日前 解定 台積電 開盤 大漲 減碼 獲利 了結 但是 基本 持股 不變 除了 台積電 以外 兔年 哪些 股票 值得 大家 關注 杜金龍 指出 挑出 台股 當中 已經 上市 25 股票 股價 淨值 殖利率 本益 方面 第一 就是 聯強 2347 通路股 當中 相對 穩定 現在 本益比 28 本益比 而且 最近 股價 沒有 創高 加上 之前 利空 消息 出來 已經 如果 知道 股票 投資人 可以 選擇 另外 杜金龍 推薦 致茂 2360 瑞昱 2379 等等 挑選 條件 如何 節目 詳細 分析 主持人 盧燕俐 表示 15 元宵 行情 元宵 波段 漲幅 甚至 10 上漲 機率 高達 87 如此 哪些 個股 值得 大家 卡位 杜金龍 長榮航 2618 聯電 2303 欣興 3037 智原 3035 節目 詳細 解釋 BR\n",
      "分詞結果：\n",
      "['台積電', '600', '...', '元宵', '行情', '杜金龍', '台北市', '綜合', '報導', '台股', '新春', '紅盤', '台積電', '主要', '因為', '農曆年', '封關', '期間', '美國', '股市', '台積電 ADR', '不過', '許多', '分析師', '看空', '今年', '盤勢', '台積電', '機會', '漲回', '600', '另外', '根據', '過去', '經驗', '元宵節', '前後', '機率', '波段', '漲幅', '時候', '卡位', '華視', '網路', '理財', '節目', '鈔錢', '部署', '邀請', '資深', '分析師', ' 杜金龍 ', '分享', '看法', '台積電會', ' 一路', '漲破', '600', '杜金龍', '認為', '台積電', '大盤', '領頭', '1月', '30日', '開盤', '開高', '走高', '大盤', '突破', '去年', '12月', '1日', '15152', '壓力區', '但是', '接下來', '台積電', '可能', '540', '560', '之間', '短線', '開始', '震盪', '壓力', '台股', '1月', '30日', '開始', '真正', '進入', '套牢區', '沒有', '辦法', '突破', '萬六', '可能', '交易量', '多寡', '杜金龍', '分享', '自己', '日前', '解定', '台積電', '開盤', '大漲', '減碼', '獲利', '了結', '但是', '基本', '持股', '不變', '以外', '兔年', '哪些', '股票', '值得', '大家', '關注', ' 杜金龍 ', '指出', '挑出', '台股', '當中', '已經', '上市', '25', '股票', '股價', '淨值', '殖利率', '本益', '方面', '第一', '就是', ' 聯強', '2347', '通路', '當中', '相對', '穩定', '現在', '本益比', '28', '本益比', '而且', '最近', '股價', '沒有', '加上', '之前', '利空', '消息', '出來', '已經', '如果', '知道', '股票', '投資人', '可以', '選擇', '另外', '杜金龍 ', '推薦', ' 致茂 ', '2360', '瑞昱', '2379', '等等', '挑選', '條件', '如何', '節目', '詳細', '分析', '主持人', '盧燕俐', '表示', '15', '元宵', '行情', '元宵', '波段', '漲幅', '甚至', '10', '上漲', '機率', '高達', '87', '如此', '哪些', '個股', '值得', '大家', '卡位', '杜金龍', '長榮航', '2618', '聯電', '2303', '欣興', '3037', '智原', '3035', '節目', '詳細', '解釋', 'BR']\n"
     ]
    }
   ],
   "source": [
    "import csv\n",
    "content_up = []\n",
    "with open(\"limit_up_ok.csv\", newline=\"\", encoding=\"utf-8\") as f:\n",
    "    reader = csv.reader(f)\n",
    "    for row in reader:\n",
    "        content_up.append(row[0])\n",
    "        \n",
    "        \n",
    "from monpa import cut, utils\n",
    "\n",
    "# 對照一下第一篇文章\n",
    "print(\"原始內容：\", content_up[20])\n",
    "print(\"分詞結果：\")\n",
    "print([w for s in utils.short_sentence(content_up[20]) for w in cut(s) if len(w.strip()) > 1])"
   ]
  },
  {
   "cell_type": "code",
   "execution_count": null,
   "id": "be65632a",
   "metadata": {},
   "outputs": [],
   "source": []
  }
 ],
 "metadata": {
  "kernelspec": {
   "display_name": "Python (monpa)",
   "language": "python",
   "name": "monpa-env"
  },
  "language_info": {
   "codemirror_mode": {
    "name": "ipython",
    "version": 3
   },
   "file_extension": ".py",
   "mimetype": "text/x-python",
   "name": "python",
   "nbconvert_exporter": "python",
   "pygments_lexer": "ipython3",
   "version": "3.10.16"
  }
 },
 "nbformat": 4,
 "nbformat_minor": 5
}
