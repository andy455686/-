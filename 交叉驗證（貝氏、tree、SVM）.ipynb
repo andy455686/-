{
 "cells": [
  {
   "cell_type": "code",
   "execution_count": 97,
   "id": "d84166e8",
   "metadata": {},
   "outputs": [],
   "source": [
    "#讀入向量空間模型，以訓練學習演算法自動判斷類別，實驗多種演算法，以交互驗證測試模型準確率\n",
    "#Big Data & Business Analytics, Willie Yang, National Taiwan University"
   ]
  },
  {
   "cell_type": "code",
   "execution_count": 1,
   "id": "73ea25af",
   "metadata": {},
   "outputs": [
    {
     "data": {
      "text/plain": [
       "<7393x108 sparse matrix of type '<class 'numpy.float64'>'\n",
       "\twith 173482 stored elements in Compressed Sparse Row format>"
      ]
     },
     "execution_count": 1,
     "metadata": {},
     "output_type": "execute_result"
    }
   ],
   "source": [
    "from scipy import sparse\n",
    "X = sparse.load_npz(\"limit_model.npz\") #讀入稀疏矩陣\n",
    "X"
   ]
  },
  {
   "cell_type": "code",
   "execution_count": 3,
   "id": "ce98f1fb",
   "metadata": {},
   "outputs": [],
   "source": [
    "import numpy as np\n",
    "\n",
    "y=[] #用以儲存已知類別\n",
    "for i in range(4194): #已知前4194篇為漲停，標記為看漲 (此為取巧權宜作法)\n",
    "  y.append(['看漲'])\n",
    "for i in range(3199): #已知後3199篇為跌停，標記為看跌\n",
    "  y.append(['看跌'])\n",
    "y=np.ravel(y) #轉換成array避免警告訊息"
   ]
  },
  {
   "cell_type": "code",
   "execution_count": 4,
   "id": "07d3ad7b",
   "metadata": {},
   "outputs": [
    {
     "name": "stdout",
     "output_type": "stream",
     "text": [
      "[0.56524679 0.56186613 0.51859364 0.56562923 0.53924222]\n",
      "Avg. Accuracy: 0.550115601277607\n"
     ]
    }
   ],
   "source": [
    "from sklearn.naive_bayes import MultinomialNB\n",
    "classifier = MultinomialNB()\n",
    "\n",
    "from sklearn.model_selection import cross_val_score\n",
    "scores = cross_val_score(classifier,X,y,cv=5,scoring='accuracy') #交叉驗證，計算準確率\n",
    "print(scores)\n",
    "print(\"Avg. Accuracy:\",scores.mean())"
   ]
  },
  {
   "cell_type": "code",
   "execution_count": 5,
   "id": "61e51cf8",
   "metadata": {},
   "outputs": [
    {
     "name": "stdout",
     "output_type": "stream",
     "text": [
      "[0.5571332  0.51994591 0.51250845 0.5135318  0.51217862]\n",
      "Avg. Accuracy: 0.5230595957294775\n"
     ]
    }
   ],
   "source": [
    "from sklearn.tree import DecisionTreeClassifier                          \n",
    "classifier = DecisionTreeClassifier(criterion=\"entropy\")\n",
    "\n",
    "from sklearn.model_selection import cross_val_score\n",
    "scores = cross_val_score(classifier,X,y,cv=5,scoring='accuracy') #交叉驗證，計算準確率\n",
    "print(scores)\n",
    "print(\"Avg. Accuracy:\",scores.mean())"
   ]
  },
  {
   "cell_type": "code",
   "execution_count": 6,
   "id": "899c3622",
   "metadata": {},
   "outputs": [
    {
     "name": "stdout",
     "output_type": "stream",
     "text": [
      "[0.56795132 0.51521298 0.5240027  0.51691475 0.52368065]\n",
      "Avg. Accuracy: 0.5295524807842039\n"
     ]
    }
   ],
   "source": [
    "from sklearn.neighbors import KNeighborsClassifier\n",
    "classifier = KNeighborsClassifier(n_neighbors=7)\n",
    "\n",
    "from sklearn.model_selection import cross_val_score\n",
    "scores = cross_val_score(classifier,X,y,cv=5,scoring='accuracy') #交叉驗證，計算準確率\n",
    "print(scores)\n",
    "print(\"Avg. Accuracy:\",scores.mean())"
   ]
  },
  {
   "cell_type": "code",
   "execution_count": 8,
   "id": "ca3ce30c",
   "metadata": {},
   "outputs": [
    {
     "name": "stdout",
     "output_type": "stream",
     "text": [
      "[0.56659905 0.56727519 0.53820149 0.567659   0.54533153]\n",
      "Avg. Accuracy: 0.5570132509165302\n"
     ]
    }
   ],
   "source": [
    "from sklearn.svm import SVC\n",
    "classifier = SVC(kernel='linear')\n",
    "\n",
    "from sklearn.model_selection import cross_val_score\n",
    "scores = cross_val_score(classifier,X,y,cv=5,scoring='accuracy') #交叉驗證，計算準確率\n",
    "print(scores)\n",
    "print(\"Avg. Accuracy:\",scores.mean())\n",
    "\n",
    "# 這個要特別久"
   ]
  },
  {
   "cell_type": "code",
   "execution_count": 9,
   "id": "fa23a0b8",
   "metadata": {},
   "outputs": [
    {
     "name": "stdout",
     "output_type": "stream",
     "text": [
      "[0.60513861 0.54699121 0.52738337 0.55953992 0.54194858]\n",
      "Avg. Accuracy: 0.5562003365108817\n"
     ]
    }
   ],
   "source": [
    "from sklearn.ensemble import RandomForestClassifier\n",
    "from sklearn.model_selection import cross_val_score\n",
    "\n",
    "classifier = RandomForestClassifier(random_state=42)\n",
    "scores = cross_val_score(classifier, X, y, cv=5, scoring='accuracy')\n",
    "print(scores)\n",
    "print(\"Avg. Accuracy:\", scores.mean())\n",
    "\n",
    "# random forest"
   ]
  },
  {
   "cell_type": "code",
   "execution_count": null,
   "id": "ee18c547",
   "metadata": {},
   "outputs": [],
   "source": []
  }
 ],
 "metadata": {
  "kernelspec": {
   "display_name": "Python 3 (ipykernel)",
   "language": "python",
   "name": "python3"
  },
  "language_info": {
   "codemirror_mode": {
    "name": "ipython",
    "version": 3
   },
   "file_extension": ".py",
   "mimetype": "text/x-python",
   "name": "python",
   "nbconvert_exporter": "python",
   "pygments_lexer": "ipython3",
   "version": "3.9.7"
  }
 },
 "nbformat": 4,
 "nbformat_minor": 5
}
