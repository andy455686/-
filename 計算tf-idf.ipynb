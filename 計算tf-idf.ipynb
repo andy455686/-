{
 "cells": [
  {
   "cell_type": "code",
   "execution_count": 138,
   "id": "1079e9ef",
   "metadata": {},
   "outputs": [],
   "source": [
    "#讀入斷詞後的內容，讀入詞彙表，建立向量空間模型，並計算相似文件\n",
    "#Big Data & Business Analytics, National Taiwan University"
   ]
  },
  {
   "cell_type": "code",
   "execution_count": 18,
   "id": "b3bda6dd",
   "metadata": {},
   "outputs": [
    {
     "name": "stdout",
     "output_type": "stream",
     "text": [
      "4194\n",
      "7393\n"
     ]
    }
   ],
   "source": [
    "import csv\n",
    "\n",
    "content=list() #用串列預備儲存所有內容\n",
    "\n",
    "f = open('limit_up_ok.csv', newline='', encoding='utf-8') #開檔 \n",
    "rows = csv.reader(f, delimiter=',') #讀檔\n",
    "for row in rows: \n",
    "  content.append(row[0])\n",
    "f.close()\n",
    "print(len(content))\n",
    "\n",
    "f = open('limit_down_ok.csv', newline='', encoding='utf-8') #開檔 \n",
    "rows = csv.reader(f, delimiter=',') #讀檔\n",
    "for row in rows:\n",
    "  content.append(row[0])\n",
    "f.close()\n",
    "print(len(content))"
   ]
  },
  {
   "cell_type": "code",
   "execution_count": 2,
   "id": "ffaae721",
   "metadata": {},
   "outputs": [
    {
     "name": "stdout",
     "output_type": "stream",
     "text": [
      "7393\n"
     ]
    }
   ],
   "source": [
    "print(len(content)) #檢查總共有幾份內容"
   ]
  },
  {
   "cell_type": "code",
   "execution_count": 4,
   "id": "4a331790",
   "metadata": {},
   "outputs": [],
   "source": [
    "# 這段程式碼的目的是：將兩個 CSV 檔案中出現的所有「不重複的詞彙」進行整合與編號。簡單說，就是幫所有詞建立一個「唯一詞彙表」，每個詞對應一個獨立編號。\n",
    "termset=dict() #用字典預備儲存所有詞彙\n",
    "no=0 #幫詞彙編號\n",
    "\n",
    "f = open('limit_up_term.csv', newline='', encoding='utf-8') #開檔 \n",
    "rows = csv.reader(f, delimiter=',') #讀檔\n",
    "for row in rows:\n",
    "  if row[0] not in termset: #如果是新詞彙則加入(意思是重複的不列入)\n",
    "    termset[row[0]]=no\n",
    "    no+=1\n",
    "f.close()\n",
    "\n",
    "f = open('limit_down_term.csv', newline='', encoding='utf-8') #開檔 \n",
    "rows = csv.reader(f, delimiter=',') #讀檔\n",
    "for row in rows:\n",
    "  if row[0] not in termset: #如果是新詞彙則加入(意思是重複的不列入)\n",
    "    termset[row[0]]=no\n",
    "    no+=1\n",
    "f.close()\n",
    "# 最後會得到一個不重複單詞的字典\n",
    "# 比較好的做法應該是重複的詞要丟掉！-->自己去改"
   ]
  },
  {
   "cell_type": "code",
   "execution_count": 4,
   "id": "cc15c428",
   "metadata": {},
   "outputs": [
    {
     "name": "stdout",
     "output_type": "stream",
     "text": [
      "108\n"
     ]
    }
   ],
   "source": [
    "print(len(termset)) #檢查總共有幾個詞彙"
   ]
  },
  {
   "cell_type": "code",
   "execution_count": 5,
   "id": "fe78144c",
   "metadata": {},
   "outputs": [
    {
     "name": "stdout",
     "output_type": "stream",
     "text": [
      "done\n"
     ]
    }
   ],
   "source": [
    "from sklearn.feature_extraction.text import TfidfVectorizer\n",
    "vectorizer = TfidfVectorizer(vocabulary=termset,use_idf=True) #用給定的termset建構向量，並使用idf加權\n",
    "print(\"done\")"
   ]
  },
  {
   "cell_type": "code",
   "execution_count": 6,
   "id": "463b0457",
   "metadata": {},
   "outputs": [
    {
     "name": "stderr",
     "output_type": "stream",
     "text": [
      "/Users/andy/opt/anaconda3/envs/monpa-env/lib/python3.10/site-packages/sklearn/feature_extraction/text.py:1380: UserWarning: Upper case characters found in vocabulary while 'lowercase' is True. These entries will not be matched with any documents\n",
      "  warnings.warn(\n"
     ]
    }
   ],
   "source": [
    "X = vectorizer.fit_transform(content) #用給定的文件集做計算\n"
   ]
  },
  {
   "cell_type": "code",
   "execution_count": 7,
   "id": "52998115",
   "metadata": {},
   "outputs": [],
   "source": [
    "from scipy import sparse\n",
    "sparse.save_npz(\"limit_model.npz\", X) #寫入整個稀疏矩陣"
   ]
  },
  {
   "cell_type": "code",
   "execution_count": 9,
   "id": "4a354e43",
   "metadata": {},
   "outputs": [
    {
     "ename": "NameError",
     "evalue": "name 'sparse' is not defined",
     "output_type": "error",
     "traceback": [
      "\u001b[0;31m---------------------------------------------------------------------------\u001b[0m",
      "\u001b[0;31mNameError\u001b[0m                                 Traceback (most recent call last)",
      "Cell \u001b[0;32mIn[9], line 3\u001b[0m\n\u001b[1;32m      1\u001b[0m \u001b[38;5;66;03m# 確認一下npz檔\u001b[39;00m\n\u001b[0;32m----> 3\u001b[0m Z \u001b[38;5;241m=\u001b[39m \u001b[43msparse\u001b[49m\u001b[38;5;241m.\u001b[39mload_npz(\u001b[38;5;124m\"\u001b[39m\u001b[38;5;124mlimit_model.npz\u001b[39m\u001b[38;5;124m\"\u001b[39m)\n\u001b[1;32m      4\u001b[0m \u001b[38;5;28mprint\u001b[39m(Z\u001b[38;5;241m.\u001b[39mshape)           \u001b[38;5;66;03m# 印出矩陣大小（文章數 × 詞彙數）\u001b[39;00m\n\u001b[1;32m      5\u001b[0m \u001b[38;5;28mprint\u001b[39m(Z[\u001b[38;5;241m0\u001b[39m]\u001b[38;5;241m.\u001b[39mtoarray())    \u001b[38;5;66;03m# 看第一篇文章的 TF-IDF 向量\u001b[39;00m\n",
      "\u001b[0;31mNameError\u001b[0m: name 'sparse' is not defined"
     ]
    }
   ],
   "source": [
    "# 確認一下npz檔\n",
    "\n",
    "Z = sparse.load_npz(\"limit_model.npz\")\n",
    "print(Z.shape)           # 印出矩陣大小（文章數 × 詞彙數）\n",
    "print(Z[0].toarray())    # 看第一篇文章的 TF-IDF 向量"
   ]
  },
  {
   "cell_type": "code",
   "execution_count": 1,
   "id": "d1e90cbb",
   "metadata": {},
   "outputs": [
    {
     "name": "stdout",
     "output_type": "stream",
     "text": [
      "+---------------------------------------------------------------------+\n",
      "  Welcome to MONPA: Multi-Objective NER POS Annotator for Chinese\n",
      "+---------------------------------------------------------------------+\n",
      "已找到 model檔。Found model file.\n",
      " 台股 加權 指數 最近 交易日 低點 2,544 創下 快速 失速 列車 紀錄 12 台股 急挫 1,418 市場 衰鴻 遍野 統計 最多 711 個股 觸及 跌停 市櫃 四成 比重 最後 251 跌停 其中 陽明 15 股價 亮燈 跌停 7千 以上 賣單 高掛 貨櫃 入榜\n"
     ]
    }
   ],
   "source": [
    "#給定任何一段內容當作查詢\n",
    "query='台股加權指數在最近9個交易日，從最高到最低點，跌了2,544點，創下史上最快速的失速列車紀錄；\\\n",
    "  12日台股盤中急挫1,418點，市場衰鴻遍野，據統計，盤中最多曾有711檔個股觸及跌停、占上市櫃的四成比重，\\\n",
    "  最後仍有251檔收跌停，其中，陽明等15檔股價亮燈跌停，仍有7千張以上賣單高掛，貨櫃三雄均入榜。'\n",
    "\n",
    "#以下套用斷詞小範例\n",
    "import monpa\n",
    "from monpa import utils\n",
    "str='' #暫存本篇斷詞後的內容用\n",
    "sentence_list = utils.short_sentence(query) #斷句\n",
    "for item in sentence_list:\n",
    "  result_cut = monpa.cut(item) #斷詞\n",
    "  for term in result_cut:\n",
    "    term=term.strip() #去除前後多餘空白\n",
    "    if(len(term)>1): #若詞長>1\n",
    "      str=str+' '+term\n",
    "print(str)"
   ]
  },
  {
   "cell_type": "code",
   "execution_count": 10,
   "id": "b069ceb3",
   "metadata": {},
   "outputs": [
    {
     "name": "stdout",
     "output_type": "stream",
     "text": [
      "  (0, 51)\t0.35355339059327373\n",
      "  (0, 8)\t0.35355339059327373\n",
      "  (0, 5)\t0.35355339059327373\n",
      "  (0, 2)\t0.35355339059327373\n",
      "  (0, 1)\t0.7071067811865475\n"
     ]
    }
   ],
   "source": [
    "q=vectorizer.fit_transform([str]) #將查詢也套入同一個向量空間\n",
    "print(q[0:1]) #印出該向量做觀察\n",
    "# GPT說不要用fit"
   ]
  },
  {
   "cell_type": "code",
   "execution_count": 17,
   "id": "1f6fc4cd",
   "metadata": {},
   "outputs": [
    {
     "name": "stdout",
     "output_type": "stream",
     "text": [
      "[0.26382271 0.55751494 0.5893735  ... 0.21122887 0.08344608 0.02462297]\n",
      "7393\n"
     ]
    }
   ],
   "source": [
    "from sklearn.metrics.pairwise import linear_kernel\n",
    "cosine_similarities = linear_kernel(q[0:1], X).flatten() #與給定文件集的向量做相似度計算\n",
    "print(cosine_similarities) #印出與每一篇的相似度做觀察\n",
    "print(len(cosine_similarities))"
   ]
  },
  {
   "cell_type": "code",
   "execution_count": 12,
   "id": "db75a3b1",
   "metadata": {},
   "outputs": [
    {
     "name": "stdout",
     "output_type": "stream",
     "text": [
      "[ 900 4031 4032 ...  503 2293 5957]\n"
     ]
    }
   ],
   "source": [
    "related_docs_indices = cosine_similarities.argsort() #將相似度由小至大做排序，並轉換成文件編號\n",
    "print(related_docs_indices)"
   ]
  },
  {
   "cell_type": "code",
   "execution_count": 13,
   "id": "92eea814",
   "metadata": {},
   "outputs": [
    {
     "name": "stdout",
     "output_type": "stream",
     "text": [
      "[5957 2293  503 3276 6619]\n"
     ]
    }
   ],
   "source": [
    "d=related_docs_indices[:-6:-1] #從後面取5個文件編號 (也就是相似度最大的前5名)\n",
    "print(d)"
   ]
  },
  {
   "cell_type": "code",
   "execution_count": 14,
   "id": "0543ce5d",
   "metadata": {},
   "outputs": [
    {
     "name": "stdout",
     "output_type": "stream",
     "text": [
      "doc  5957  :  台積電 再度 填息 台股 早盤 攻高 中央社 記者 曾仁凱 台北 2024年 3月 18日 台積電 2330 今天 牽動 台股 指數 走勢 台積電 配發 股息 3.5 影響 加權 指數 30 不過 台積電 再度 上演 填息 台股 早盤 攻高 台積電 配發 股息 3.5 參考價 750 今天 股價 以上 開出 瞬間 完成 填息 股價 攻高 截至 上午 9時 10 台積電 股價 上漲 1.2 攻上 759 推升 台股 大漲 台積電 台股 權值 股價 漲跌 牽動 台股 指數 週五 台積電 棄權 賣壓 出籠 最後 爆出 3萬 大量 股價 急殺 重跌 31 造成 加權 指數 當天 重跌 255.4 19682.5 翻黑 終止 台積電 2019年 改採 每季 配息 過去 18 除息 順利 完成 填息 其中 13 除息 當天 快速 填息 填息 時間 長為 15 交易日\n",
      "doc  2293  :  台積電 股價 不停 10 ETF 沾光 創新 AI 行情 延燒 台股 加權 指數 19386.92 作收 萬九 關卡 護國 神山 台積電 2330 衝上 738 創下 歷史 天價 挾帶 氣勢 國內 台股 ETF 18 股價 創新 其中 10 ETF\n",
      "doc  503  :  台股 跌出 今年 第二 分析師 曝光 止跌 時間 台積電 定股神針 FTNN 新聞網 記者 蔡昀庭 台北 報導 台股 22 22256.99 作收 台股 第八 今年 第二 收盤 跌點 許多 好奇 台股 跌到 分析師 認為 台積電 重新 站上 960 台股 望止 台股 今日 以下 50.4 開低 指數 一路 崩跌 終場 加權 指數 下跌 612.27 收在 22256.99 跌幅 2.58 成交 金額 5500.73 許多 股民 憂心忡忡 解套 進場 深怕 韭菜 台股 重挫 許多 好奇 到底 何時 止跌 根據 Yahoo 財經 報導 顧德 投顧 分析師 張家豪 表示 觀察 加權 指數 6月 25日 頸線 22053 下跌 止穩 台積積 重新 站上 960 加權 指數 重新 站上 22053 7月 29日 窄基 指數 生效 台股 望止跌\n",
      "doc  3276  :  台北 股市 台積電 跳空 900 台股 跌彈 200 時報 台北電 美股 觀望 台積電 ADR 收漲 0.24 台積電 2330 跳空 900 之上 18 907 台股 同步 開高 179 隨著 電金 傳產 權值股 止跌 反彈 台股 開高 走高 9時 10日 高漲 305 21397 尚未 跟隨 台積電 重登 預料 盤勢 呈現 量縮 反彈 格局 台積 電盤 20 909 整體 追價 買盤 謹慎 9時 10 台股 287 21380 維持 橫盤 格局 8月 就業 數據 公布 前夕 指數 漲跌 互見 幅度 介於 0.3 0.25 輝達 Nvidia 否認 收到 美國 司法部 DOJ 壟斷 問題 發出 傳票 股價 應聲 走揚 輝達 重挫 9.53 收盤 續跌 1.66 106.21 美元 盤後 0.62 106.87 美元 周三 台股 開低 走低 終場 大跌 999 21092 成交 金額 放大 4851億 國票 投顧 指出 近期 國際 AI 逆風 事件 頻傳 超微 延後 遞交 財報 Nvidia 壟斷 調查 升級 市場 對於 AI 未來 展望 出現 動搖 拖累 周三 台股 失守 半年線 所幸 權值 雙雄 台積電 2330 鴻海 2317 站穩 半年線 之上 有望 後續 台股 提供 相應 支撐 凱基 投顧 表示 周三 外資 記錄 台股 1007億 使得 周三 台股 開低 走低 跳空 跌破 所有 短期 均線 半年線 支撐 短期 均線 反壓 成型 台股 正式 進入 拉回 整理 格局 半年線 21586 附近 已經 形成 反壓 下檔 支撐 暫看 兩萬 關卡 甚至 可能 再度 回測 19662 低點 觀察 周三 台股 盤面 結構 呈現 下挫 美國政府 起動 AI 壟斷 調查 AI 概念股 近期 持續 整理 國際 半導體 設備展 正式 開展 焦點 半導體 設備 光子 工具機 周三成 盤面 焦點 編輯 沈培華\n",
      "doc  6619  :  台北 股市 台積電 衝破 900 日線 台股 反彈 時報 台北電 投資人 暫時 放下 美國 經濟 可能 陷入 衰退 擔憂 周二 主要 指數 全面 收高 台積電 ADR 5.03 台積電 2330 周二 台股 提前 強勁 反彈 8月 7日 開盤 21 901 台股 台積電 聯發科 2454 電子股 上攻 以及 金融股 台股 開高 走高 300 20800 之上 連續 第二 呈現 跌深 反彈 走勢 台積電 早盤 跳空 漲破 900 關卡 連續 第二 反彈 領先 台股 站上 之上 台股 同步 跳空 開高 整體 追價 買盤 力道 台股 呈現 20700 20800 平台 整理 格局 高達 20836 9點10 加權 指數 270 20770 附近 美股 收復 連續 大跌 交易 日後 部分 失土 科技 AI 熱門股 回神 輝達 收漲 3.78 周三 開低 以及 美股 期貨盤 走跌 輝達 台積電 ADR 拉回 顯示 市場 信心 似乎 仍然 脆弱 AI 稱號 超微 Super Micro Computer 1.33 616.94 美元 第四 財季 財報 不如 市場 預期 股價 重挫 13.28 下探 535 美元 國票 投顧 指出 台股 下檔 空間 相對 有限 近期 波動 劇烈 縮小 部位 操作 周期 因應 凱基 投顧 分析 指數 短線 機會 持續 跌深 反彈 全球 資金 避險 資產 移動 風險 仍然 存在 上檔 周一 跳空 缺口 下緣 20982 附近 沈重 壓力 中線 操作者 暫勿 貿然 搶短 支撐 年線 19025 附近 編輯 沈培華\n"
     ]
    }
   ],
   "source": [
    "for i in d:\n",
    "  print('doc ',i,' : '+content[i]) #印出這些文件內容"
   ]
  },
  {
   "cell_type": "code",
   "execution_count": null,
   "id": "a2b6d7bc",
   "metadata": {},
   "outputs": [],
   "source": []
  }
 ],
 "metadata": {
  "kernelspec": {
   "display_name": "Python (monpa)",
   "language": "python",
   "name": "monpa-env"
  },
  "language_info": {
   "codemirror_mode": {
    "name": "ipython",
    "version": 3
   },
   "file_extension": ".py",
   "mimetype": "text/x-python",
   "name": "python",
   "nbconvert_exporter": "python",
   "pygments_lexer": "ipython3",
   "version": "3.10.16"
  }
 },
 "nbformat": 4,
 "nbformat_minor": 5
}
